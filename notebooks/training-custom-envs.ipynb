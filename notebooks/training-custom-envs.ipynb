{
 "cells": [
  {
   "cell_type": "markdown",
   "metadata": {
    "id": "ssCOanHc8JH_"
   },
   "source": [
    "# Training in Brax\n",
    "\n",
    "In [Brax Basics](https://colab.research.google.com/github/google/brax/blob/main/notebooks/basics.ipynb) we learned about the core components of Brax: static system definitions, dynamic state, and dynamic input.  With these core components, we can optimize a function of the Brax simulation to learn all kinds of fun and useful behaviors in a physical environment.\n",
    "\n",
    "Brax provides a [gym](https://gym.openai.com/)-like environment for training policies.  Brax comes with PPO, SAC, evolutionary search, and trajectory optimization algorithms out of the box.  Let's try it out!"
   ]
  },
  {
   "cell_type": "code",
   "execution_count": 1,
   "metadata": {
    "id": "_sOmCoOrF0F8"
   },
   "outputs": [
    {
     "name": "stderr",
     "output_type": "stream",
     "text": [
      "2021-09-09 15:58:19.787877: W tensorflow/stream_executor/platform/default/dso_loader.cc:64] Could not load dynamic library 'libcudart.so.11.0'; dlerror: libcudart.so.11.0: cannot open shared object file: No such file or directory; LD_LIBRARY_PATH: /usr/lib/x86_64-linux-gnu/gazebo-11/plugins:/opt/ros/galactic/opt/yaml_cpp_vendor/lib:/opt/ros/galactic/opt/rviz_ogre_vendor/lib:/opt/ros/galactic/lib/x86_64-linux-gnu:/opt/ros/galactic/lib\n"
     ]
    }
   ],
   "source": [
    "#@title Colab setup and imports\n",
    "#@markdown ## ⚠️ PLEASE NOTE:\n",
    "#@markdown This colab runs best using a TPU runtime.  From the Colab menu, choose Runtime > Change Runtime Type, then select **'TPU'** in the dropdown.\n",
    "\n",
    "from datetime import datetime\n",
    "import functools\n",
    "import os\n",
    "\n",
    "from IPython.display import HTML, clear_output\n",
    "import jax\n",
    "import jax.numpy as jnp\n",
    "import matplotlib.pyplot as plt\n",
    "\n",
    "if 'COLAB_TPU_ADDR' in os.environ:\n",
    "    try:\n",
    "      import brax\n",
    "    except ImportError:\n",
    "      !pip install git+https://github.com/flobotics/brax.git@custom_envs\n",
    "      clear_output()\n",
    "      import brax\n",
    "else:\n",
    "    import brax\n",
    "\n",
    "from brax import envs\n",
    "from brax.training import ppo, sac\n",
    "from brax.io import html\n",
    "\n",
    "if 'COLAB_TPU_ADDR' in os.environ:\n",
    "  from jax.tools import colab_tpu\n",
    "  colab_tpu.setup_tpu()"
   ]
  },
  {
   "cell_type": "markdown",
   "metadata": {
    "id": "Tm8zbPBcJ5RJ"
   },
   "source": [
    "In [Brax Basics](https://colab.research.google.com/github/google/brax/blob/main/notebooks/basics.ipynb) we explored simple systems with a couple of bodies and two joints.  Most practical systems have many more bodies, joints, and actuators.  Larger systems are tedious to author by hand, so Brax comes with a few built-in systems that are useful for quick experiments:\n",
    "\n",
    "**[ant](https://github.com/google/brax/blob/main/brax/envs/ant.py)** from [OpenAI Gym Ant-v2](https://gym.openai.com/envs/Ant-v2/): make a four-legged creature walk forward as fast as possible\n",
    "\n",
    "**[humanoid](https://github.com/google/brax/blob/main/brax/envs/humanoid.py)** from [OpenAI Gym Humanoid-v2](https://gym.openai.com/envs/Humanoid-v2/): make a three-dimensional bipedal robot walk forward as fast as possible, without falling over.\n",
    "\n",
    "**[halfcheetah](https://github.com/google/brax/blob/main/brax/envs/halfcheetah.py)** from [OpenAI Gym HalfCheetah-v2](https://gym.openai.com/envs/HalfCheetah-v2/): make a two-dimensional two-legged creature walk forward as fast as possible\n",
    "\n",
    "**[fetch](https://github.com/google/brax/blob/main/brax/envs/fetch.py)**: make a three-dimensional dog chase after a moving target.\n",
    "\n",
    "**[grasp](https://github.com/google/brax/blob/main/brax/envs/grasp.py)**: a grabber hand must pick up a ball and carry it to a moving target.\n",
    "\n",
    "**[ur5e](https://github.com/google/brax/blob/main/brax/envs/ur5e.py)**: a ur5e robot arm that moves its end effector to a series of targets.\n",
    "\n",
    "**[reacher](https://github.com/google/brax/blob/main/brax/envs/reacher.py)**: from [OpenAI Gym Reacher-v2](https://gym.openai.com/envs/Reacher-v2/): makes a two-joint reacher arm move its tip to a target.\n",
    "\n",
    "As systems get more complex, it becomes useful to have some way of visualizing them in 3D, to ensure you've defined your system the way you think you have.  Brax includes a little 3D viewer that makes it easy to quickly debug systems and trajectories:"
   ]
  },
  {
   "cell_type": "code",
   "execution_count": 2,
   "metadata": {
    "colab": {
     "base_uri": "https://localhost:8080/",
     "height": 480
    },
    "id": "NaJDZqhCLovU",
    "outputId": "b8f9e4fc-9b2b-4e6f-891a-4fbdafc0a194"
   },
   "outputs": [
    {
     "name": "stderr",
     "output_type": "stream",
     "text": [
      "WARNING:absl:No GPU/TPU found, falling back to CPU. (Set TF_CPP_MIN_LOG_LEVEL=0 and rerun for more info.)\n"
     ]
    },
    {
     "data": {
      "text/html": [
       "\n",
       "<html>\n",
       "\n",
       "  <head>\n",
       "    <title>brax visualizer</title>\n",
       "    <style>\n",
       "      body {\n",
       "        margin: 0;\n",
       "        padding: 0;\n",
       "      }\n",
       "\n",
       "      #brax-viewer {\n",
       "        margin: 0;\n",
       "        padding: 0;\n",
       "        height: 480px;\n",
       "      }\n",
       "    </style>\n",
       "  </head>\n",
       "\n",
       "  <body>\n",
       "    <script type=\"application/javascript\">\n",
       "    var system = {\"config\": {\"bodies\": [{\"name\": \"$ BallBody\", \"colliders\": [{\"sphere\": {\"radius\": 1.0}}], \"inertia\": {\"x\": 1.0, \"y\": 1.0, \"z\": 1.0}, \"mass\": 10.0, \"frozen\": {\"position\": {\"x\": 0.0, \"y\": 0.0, \"z\": 0.0}, \"rotation\": {\"x\": 0.0, \"y\": 0.0, \"z\": 0.0}, \"all\": false}}, {\"name\": \"Aux 1\", \"colliders\": [{\"sphere\": {\"radius\": 1.0}}], \"inertia\": {\"x\": 1.0, \"y\": 1.0, \"z\": 1.0}, \"mass\": 1.001, \"frozen\": {\"position\": {\"x\": 0.0, \"y\": 0.0, \"z\": 0.0}, \"rotation\": {\"x\": 0.0, \"y\": 0.0, \"z\": 0.0}, \"all\": false}}, {\"name\": \"Ground\", \"colliders\": [{\"plane\": {}}], \"inertia\": {\"x\": 1.0, \"y\": 1.0, \"z\": 1.0}, \"mass\": 1.0, \"frozen\": {\"position\": {\"x\": 1.0, \"y\": 1.0, \"z\": 1.0}, \"rotation\": {\"x\": 1.0, \"y\": 1.0, \"z\": 1.0}, \"all\": true}}], \"joints\": [{\"name\": \"$ BallBody_Aux 1\", \"stiffness\": 15000.0, \"parent\": \"$ BallBody\", \"child\": \"Aux 1\", \"parentOffset\": {\"x\": 0.0, \"y\": 0.0, \"z\": 0.0}, \"childOffset\": {\"y\": 2.2, \"x\": 0.0, \"z\": 0.0}, \"rotation\": {\"x\": 0.0, \"y\": 0.0, \"z\": 0.0}, \"angularDamping\": 35.0, \"angleLimit\": [{\"min\": -10.0, \"max\": 10.0}]}], \"actuators\": [{\"name\": \"$ BallBody_Aux 1\", \"joint\": \"$ BallBody_Aux 1\", \"strength\": 300.0, \"torque\": {}}], \"friction\": 0.6, \"gravity\": {\"z\": -9.8, \"x\": 0.0, \"y\": 0.0}, \"angularDamping\": -0.05, \"baumgarteErp\": 0.1, \"collideInclude\": [{\"first\": \"$ BallBody\", \"second\": \"Ground\"}], \"dt\": 0.0167, \"substeps\": 30, \"frozen\": {\"all\": false}, \"elasticity\": 0.0, \"velocityDamping\": 0.0, \"defaults\": []}, \"pos\": [[[0.0, 0.0, 1.0], [0.0, -2.200000047683716, 1.0], [-0.0, -0.0, -0.0]]], \"rot\": [[[1.0, 0.0, 0.0, 0.0], [1.0, 0.0, 0.0, 0.0], [1.0, 0.0, 0.0, 0.0]]]};\n",
       "    </script>\n",
       "\n",
       "    <div id=\"brax-viewer\"></div>\n",
       "\n",
       "    <script type=\"module\">\n",
       "      import {Viewer} from 'https://cdn.jsdelivr.net/gh/google/brax@6039109a102ca2ed4baaaf5bc595bdf3aaecc89f/js/viewer.js';\n",
       "      const domElement = document.getElementById('brax-viewer');\n",
       "      var viewer = new Viewer(domElement, system);\n",
       "    </script>\n",
       "  </body>\n",
       "</html>\n"
      ],
      "text/plain": [
       "<IPython.core.display.HTML object>"
      ]
     },
     "execution_count": 2,
     "metadata": {},
     "output_type": "execute_result"
    }
   ],
   "source": [
    "#@title Visualizing pre-included Brax environments { run: \"auto\" }\n",
    "\n",
    "env_name = \"balltest\"  # @param ['balltest','simtoreal_three_servo_arm_ax12a','crawler5','testenv','testenv2','ant', 'humanoid', 'fetch', 'grasp', 'halfcheetah', 'ur5e', 'reacher']\n",
    "env_fn = envs.create_fn(env_name=env_name)\n",
    "env = env_fn()\n",
    "jit_env_reset = jax.jit(env.reset)\n",
    "state = jit_env_reset(rng=jax.random.PRNGKey(seed=0))\n",
    "\n",
    "def visualize(sys, qps):\n",
    "  \"\"\"Renders a 3D visualization of the environment.\"\"\"\n",
    "  return HTML(html.render(sys, qps))\n",
    "\n",
    "visualize(env.sys, [state.qp])"
   ]
  },
  {
   "cell_type": "markdown",
   "metadata": {
    "id": "25iky4mITUhh"
   },
   "source": [
    "# Training\n",
    "\n",
    "Brax provides out of the box the following training algorithms:\n",
    "\n",
    "* [Proximal policy optimization](https://github.com/google/brax/blob/main/brax/training/ppo.py)\n",
    "* [Soft actor-critic](https://github.com/google/brax/blob/main/brax/training/sac.py)\n",
    "* [Evolutionary strategy](https://github.com/google/brax/blob/main/brax/training/es.py)\n",
    "* [Analytic policy gradients](https://github.com/google/brax/blob/main/brax/training/apg.py)\n",
    "\n",
    "Trainers take as input an environment function and some hyperparameters, and return an inference function to operate the environment."
   ]
  },
  {
   "cell_type": "code",
   "execution_count": 3,
   "metadata": {
    "colab": {
     "base_uri": "https://localhost:8080/",
     "height": 317
    },
    "id": "4vgMSWODfyMC",
    "outputId": "e9de2895-6744-425d-9940-9a650810dbff"
   },
   "outputs": [
    {
     "data": {
      "image/png": "[encoded data removed]",
      "text/plain": [
       "<Figure size 432x288 with 1 Axes>"
      ]
     },
     "metadata": {
      "needs_background": "light"
     },
     "output_type": "display_data"
    },
    {
     "name": "stdout",
     "output_type": "stream",
     "text": [
      "time to jit: 0:00:37.945510\n",
      "time to train: 0:00:07.982862\n"
     ]
    }
   ],
   "source": [
    "#@title Training some pre-included Brax environments\n",
    "\n",
    "# We determined some reasonable hyperparameters offline and share them here.\n",
    "train_fn = {\n",
    "  'ant': functools.partial(\n",
    "      ppo.train, num_timesteps = 50000000, log_frequency = 20,\n",
    "      reward_scaling = 10, episode_length = 1000, normalize_observations = True,\n",
    "      action_repeat = 1, unroll_length = 5, num_minibatches = 32,\n",
    "      num_update_epochs = 4, discounting = 0.95, learning_rate = 3e-4,\n",
    "      entropy_cost = 1e-2, num_envs = 2048, batch_size = 1024\n",
    "  ),\n",
    "  'humanoid': functools.partial(\n",
    "      sac.train, num_timesteps = 1048576 * 5,\n",
    "      log_frequency = 131012, reward_scaling = 30, episode_length = 1000,\n",
    "      normalize_observations = True, action_repeat = 1, discounting = 0.99,\n",
    "      learning_rate = 6e-4, num_envs = 64, batch_size = 512,\n",
    "      min_replay_size = 8192, max_replay_size = 1048576,\n",
    "      grad_updates_per_step = 0.125, max_devices_per_host=4\n",
    "  ),\n",
    "  'fetch': functools.partial(\n",
    "      ppo.train, num_timesteps = 100_000_000, log_frequency = 20,\n",
    "      reward_scaling = 5, episode_length = 1000, normalize_observations = True,\n",
    "      action_repeat = 1, unroll_length = 20, num_minibatches = 32,\n",
    "      num_update_epochs = 4, discounting = 0.997, learning_rate = 3e-4,\n",
    "      entropy_cost = 0.001, num_envs = 2048, batch_size = 256\n",
    "  ),\n",
    "  'grasp': functools.partial(\n",
    "      ppo.train, num_timesteps = 600_000_000, log_frequency = 10,\n",
    "      reward_scaling = 10, episode_length = 1000, normalize_observations = True,\n",
    "      action_repeat = 1, unroll_length = 20, num_minibatches = 32,\n",
    "      num_update_epochs = 2, discounting = 0.99, learning_rate = 3e-4,\n",
    "      entropy_cost = 0.001, num_envs = 2048, batch_size = 256\n",
    "  ),\n",
    "  'halfcheetah': functools.partial(\n",
    "      ppo.train, num_timesteps = 100_000_000, log_frequency = 10,\n",
    "      reward_scaling = 1, episode_length = 1000, normalize_observations = True,\n",
    "      action_repeat = 1, unroll_length = 20, num_minibatches = 32,\n",
    "      num_update_epochs = 8, discounting = 0.95, learning_rate = 3e-4,\n",
    "      entropy_cost = 0.001, num_envs = 2048, batch_size = 512\n",
    "  ),\n",
    "  'ur5e': functools.partial(\n",
    "      ppo.train, num_timesteps = 20_000_000, log_frequency = 20,\n",
    "      reward_scaling = 10, episode_length = 1000, normalize_observations = True,\n",
    "      action_repeat = 1, unroll_length = 5, num_minibatches = 32,\n",
    "      num_update_epochs = 4, discounting = 0.95, learning_rate = 2e-4,\n",
    "      entropy_cost = 1e-2, num_envs = 2048, batch_size = 1024,\n",
    "      max_devices_per_host = 8\n",
    "  ),\n",
    "  'reacher': functools.partial(\n",
    "      ppo.train, num_timesteps = 100_000_000, log_frequency = 20,\n",
    "      reward_scaling = 5, episode_length = 1000, normalize_observations = True,\n",
    "      action_repeat = 4, unroll_length = 50, num_minibatches = 32,\n",
    "      num_update_epochs = 8, discounting = 0.95, learning_rate = 3e-4,\n",
    "      entropy_cost = 1e-3, num_envs = 2048, batch_size = 256,\n",
    "      max_devices_per_host = 8, seed = 1),\n",
    "  'testenv': functools.partial(\n",
    "      ppo.train, num_timesteps = 100_000_000, log_frequency = 20,\n",
    "      reward_scaling = 5, episode_length = 1000, normalize_observations = True,\n",
    "      action_repeat = 1, unroll_length = 20, num_minibatches = 32,\n",
    "      num_update_epochs = 4, discounting = 0.997, learning_rate = 3e-4,\n",
    "      entropy_cost = 0.001, num_envs = 2048, batch_size = 256\n",
    "  ),\n",
    "  'testenv2': functools.partial(\n",
    "      ppo.train, num_timesteps = 100_000_000, log_frequency = 20,\n",
    "      reward_scaling = 5, episode_length = 1000, normalize_observations = True,\n",
    "      action_repeat = 1, unroll_length = 20, num_minibatches = 32,\n",
    "      num_update_epochs = 4, discounting = 0.997, learning_rate = 3e-4,\n",
    "      entropy_cost = 0.001, num_envs = 2048, batch_size = 256\n",
    "  ),\n",
    "  'crawler5': functools.partial(\n",
    "      ppo.train, num_timesteps = 100_000_000, log_frequency = 20,\n",
    "      reward_scaling = 5, episode_length = 1000, normalize_observations = True,\n",
    "      action_repeat = 4, unroll_length = 50, num_minibatches = 32,\n",
    "      num_update_epochs = 8, discounting = 0.95, learning_rate = 3e-4,\n",
    "      entropy_cost = 1e-3, num_envs = 2048, batch_size = 256,\n",
    "      max_devices_per_host = 8, seed = 1),\n",
    "  'simtoreal_three_servo_arm_ax12a': functools.partial(\n",
    "      ppo.train, num_timesteps = 100_000_000, log_frequency = 20,\n",
    "      reward_scaling = 5, episode_length = 1000, normalize_observations = True,\n",
    "      action_repeat = 4, unroll_length = 50, num_minibatches = 32,\n",
    "      num_update_epochs = 8, discounting = 0.95, learning_rate = 3e-4,\n",
    "      entropy_cost = 1e-3, num_envs = 2048, batch_size = 256,\n",
    "      max_devices_per_host = 8, seed = 1),\n",
    "  'balltest': functools.partial(\n",
    "      ppo.train, num_timesteps = 100, log_frequency = 20,\n",
    "      reward_scaling = 5, episode_length = 10, normalize_observations = True,\n",
    "      action_repeat = 4, unroll_length = 50, num_minibatches = 32,\n",
    "      num_update_epochs = 8, discounting = 0.95, learning_rate = 3e-4,\n",
    "      entropy_cost = 1e-3, num_envs = 2048, batch_size = 256,\n",
    "      max_devices_per_host = 8, seed = 1),\n",
    "}[env_name]\n",
    "max_y = {'ant': 6000, \n",
    "         'humanoid': 12000, \n",
    "         'fetch': 15, \n",
    "         'grasp': 100, \n",
    "         'halfcheetah': 8000,\n",
    "         'ur5e': 10,\n",
    "         'reacher': 5,\n",
    "         'testenv': 15000,\n",
    "         'testenv2': 15000,\n",
    "         'crawler5': 15000,\n",
    "         'simtoreal_three_servo_arm_ax12a': 15000,\n",
    "         'balltest': 5,}[env_name]\n",
    "\n",
    "min_y = {'reacher': -100}.get(env_name, 0)\n",
    "min_y = {'testenv': -10000}.get(env_name, 0)\n",
    "min_y = {'testenv2': -10000}.get(env_name, 0)\n",
    "min_y = {'crawler5': -10000}.get(env_name, 0)\n",
    "min_y = {'simtoreal_three_servo_arm_ax12a': -10000}.get(env_name, 0)\n",
    "min_y = {'balltest': -100}.get(env_name, 0)\n",
    "\n",
    "xdata = []\n",
    "ydata = []\n",
    "times = [datetime.now()]\n",
    "\n",
    "def progress(num_steps, metrics):\n",
    "  times.append(datetime.now())\n",
    "  xdata.append(num_steps)\n",
    "  ydata.append(metrics['eval/episode_reward'])\n",
    "  clear_output(wait=True)\n",
    "  plt.xlim([0, train_fn.keywords['num_timesteps']])\n",
    "  plt.ylim([min_y, max_y])\n",
    "  plt.xlabel('# environment steps')\n",
    "  plt.ylabel('reward per episode')\n",
    "  plt.plot(xdata, ydata)\n",
    "  plt.show()\n",
    "\n",
    "inference_fn, params, _ = train_fn(environment_fn=env_fn, progress_fn=progress)\n",
    "\n",
    "print(f'time to jit: {times[1] - times[0]}')\n",
    "print(f'time to train: {times[-1] - times[1]}')"
   ]
  },
  {
   "cell_type": "markdown",
   "metadata": {
    "id": "FGPyeF8Jsj_M"
   },
   "source": [
    "The trainers return an inference function and the final set of metrics gathered during evaluation.  Here, we take the inference function and visualize one episode's trajectory:"
   ]
  },
  {
   "cell_type": "code",
   "execution_count": null,
   "metadata": {
    "colab": {
     "base_uri": "https://localhost:8080/",
     "height": 480
    },
    "id": "RNMLEyaTspEM",
    "outputId": "02706026-c31a-4483-e5ff-450790f2370a"
   },
   "outputs": [],
   "source": [
    "#@title Visualizing a trajectory of the learned inference function\n",
    "\n",
    "jit_env_step = jax.jit(env.step)\n",
    "jit_inference_fn = jax.jit(inference_fn)\n",
    "rng = jax.random.PRNGKey(seed=0)\n",
    "reset_key, rng = jax.random.split(rng)\n",
    "state = jit_env_reset(rng=reset_key)\n",
    "qps = []\n",
    "while not state.done:\n",
    "  qps.append(state.qp)\n",
    "  tmp_key, rng = jax.random.split(rng)\n",
    "  act = jit_inference_fn(params, state.obs, tmp_key)\n",
    "  state = jit_env_step(state, act)\n",
    "\n",
    "visualize(env.sys, qps)"
   ]
  },
  {
   "cell_type": "code",
   "execution_count": null,
   "metadata": {},
   "outputs": [],
   "source": []
  }
 ],
 "metadata": {
  "accelerator": "TPU",
  "colab": {
   "collapsed_sections": [],
   "name": "Brax Training.ipynb",
   "provenance": []
  },
  "kernelspec": {
   "display_name": "Python 3 (ipykernel)",
   "language": "python",
   "name": "python3"
  },
  "language_info": {
   "codemirror_mode": {
    "name": "ipython",
    "version": 3
   },
   "file_extension": ".py",
   "mimetype": "text/x-python",
   "name": "python",
   "nbconvert_exporter": "python",
   "pygments_lexer": "ipython3",
   "version": "3.8.10"
  }
 },
 "nbformat": 4,
 "nbformat_minor": 1
}
