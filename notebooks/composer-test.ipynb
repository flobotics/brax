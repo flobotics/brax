{
 "cells": [
  {
   "cell_type": "code",
   "execution_count": 1,
   "id": "c0884669",
   "metadata": {},
   "outputs": [
    {
     "name": "stderr",
     "output_type": "stream",
     "text": [
      "2021-09-05 15:45:39.938891: W tensorflow/stream_executor/platform/default/dso_loader.cc:64] Could not load dynamic library 'libcudart.so.11.0'; dlerror: libcudart.so.11.0: cannot open shared object file: No such file or directory; LD_LIBRARY_PATH: /usr/lib/x86_64-linux-gnu/gazebo-11/plugins:/opt/ros/galactic/opt/yaml_cpp_vendor/lib:/opt/ros/galactic/opt/rviz_ogre_vendor/lib:/opt/ros/galactic/lib/x86_64-linux-gnu:/opt/ros/galactic/lib\n"
     ]
    }
   ],
   "source": [
    "#@title Colab setup and imports\n",
    "#@markdown ## ⚠️ PLEASE NOTE:\n",
    "#@markdown This colab runs best using a TPU runtime.  From the Colab menu, choose Runtime > Change Runtime Type, then select **'TPU'** in the dropdown.\n",
    "\n",
    "from datetime import datetime\n",
    "import functools\n",
    "import os\n",
    "\n",
    "from IPython.display import HTML, clear_output\n",
    "import jax\n",
    "import jax.numpy as jnp\n",
    "import matplotlib.pyplot as plt\n",
    "\n",
    "if 'COLAB_TPU_ADDR' in os.environ:\n",
    "    try:\n",
    "      import brax\n",
    "    except ImportError:\n",
    "      !pip install git+https://github.com/flobotics/brax.git@custom_envs\n",
    "      clear_output()\n",
    "      import brax\n",
    "else:\n",
    "    import brax\n",
    "\n",
    "from brax import envs\n",
    "from brax.training import ppo, sac\n",
    "from brax.io import html\n",
    "from brax.experimental.composer import composer\n",
    "\n",
    "if 'COLAB_TPU_ADDR' in os.environ:\n",
    "  from jax.tools import colab_tpu\n",
    "  colab_tpu.setup_tpu()"
   ]
  },
  {
   "cell_type": "code",
   "execution_count": 4,
   "id": "099c5cb1",
   "metadata": {},
   "outputs": [
    {
     "name": "stderr",
     "output_type": "stream",
     "text": [
      "/home/ros2/.local/lib/python3.8/site-packages/jax/_src/numpy/lax_numpy.py:3027: UserWarning: Explicitly requested dtype float requested in array is not available, and will be truncated to dtype float32. To enable more dtypes, set the jax_enable_x64 configuration option or the JAX_ENABLE_X64 shell environment variable. See https://github.com/google/jax#current-gotchas for more.\n",
      "  lax._check_user_dtype_supported(dtype, \"array\")\n"
     ]
    }
   ],
   "source": [
    "env_name = \"ant_cheetah\"\n",
    "env_fn = composer.create_fn(env_name=env_name)\n",
    "env = env_fn()"
   ]
  },
  {
   "cell_type": "code",
   "execution_count": 5,
   "id": "ba339501",
   "metadata": {},
   "outputs": [
    {
     "data": {
      "text/html": [
       "\n",
       "<html>\n",
       "\n",
       "  <head>\n",
       "    <title>brax visualizer</title>\n",
       "    <style>\n",
       "      body {\n",
       "        margin: 0;\n",
       "        padding: 0;\n",
       "      }\n",
       "\n",
       "      #brax-viewer {\n",
       "        margin: 0;\n",
       "        padding: 0;\n",
       "        height: 480px;\n",
       "      }\n",
       "    </style>\n",
       "  </head>\n",
       "\n",
       "  <body>\n",
       "    <script type=\"application/javascript\">\n",
       "    var system = {\"config\": {\"bodies\": [{\"name\": \"torso_ant1\", \"colliders\": [{\"capsule\": {\"radius\": 0.25, \"length\": 0.5, \"end\": 1}}], \"inertia\": {\"x\": 1.0, \"y\": 1.0, \"z\": 1.0}, \"mass\": 10.0, \"frozen\": {\"position\": {\"x\": 0.0, \"y\": 0.0, \"z\": 0.0}, \"rotation\": {\"x\": 0.0, \"y\": 0.0, \"z\": 0.0}, \"all\": false}}, {\"name\": \"Aux 1_ant1\", \"colliders\": [{\"rotation\": {\"x\": 90.0, \"y\": -45.0, \"z\": 0.0}, \"capsule\": {\"radius\": 0.08, \"length\": 0.44284272, \"end\": 0}}], \"inertia\": {\"x\": 1.0, \"y\": 1.0, \"z\": 1.0}, \"mass\": 1.0, \"frozen\": {\"position\": {\"x\": 0.0, \"y\": 0.0, \"z\": 0.0}, \"rotation\": {\"x\": 0.0, \"y\": 0.0, \"z\": 0.0}, \"all\": false}}, {\"name\": \"$ Body 4_ant1\", \"colliders\": [{\"rotation\": {\"x\": 90.0, \"y\": -45.0, \"z\": 0.0}, \"capsule\": {\"radius\": 0.08, \"length\": 0.7256854, \"end\": -1}}], \"inertia\": {\"x\": 1.0, \"y\": 1.0, \"z\": 1.0}, \"mass\": 1.0, \"frozen\": {\"position\": {\"x\": 0.0, \"y\": 0.0, \"z\": 0.0}, \"rotation\": {\"x\": 0.0, \"y\": 0.0, \"z\": 0.0}, \"all\": false}}, {\"name\": \"Aux 2_ant1\", \"colliders\": [{\"rotation\": {\"x\": 90.0, \"y\": 45.0, \"z\": 0.0}, \"capsule\": {\"radius\": 0.08, \"length\": 0.44284272, \"end\": 0}}], \"inertia\": {\"x\": 1.0, \"y\": 1.0, \"z\": 1.0}, \"mass\": 1.0, \"frozen\": {\"position\": {\"x\": 0.0, \"y\": 0.0, \"z\": 0.0}, \"rotation\": {\"x\": 0.0, \"y\": 0.0, \"z\": 0.0}, \"all\": false}}, {\"name\": \"$ Body 7_ant1\", \"colliders\": [{\"rotation\": {\"x\": 90.0, \"y\": 45.0, \"z\": 0.0}, \"capsule\": {\"radius\": 0.08, \"length\": 0.7256854, \"end\": -1}}], \"inertia\": {\"x\": 1.0, \"y\": 1.0, \"z\": 1.0}, \"mass\": 1.0, \"frozen\": {\"position\": {\"x\": 0.0, \"y\": 0.0, \"z\": 0.0}, \"rotation\": {\"x\": 0.0, \"y\": 0.0, \"z\": 0.0}, \"all\": false}}, {\"name\": \"Aux 3_ant1\", \"colliders\": [{\"rotation\": {\"x\": -90.0, \"y\": 45.0, \"z\": 0.0}, \"capsule\": {\"radius\": 0.08, \"length\": 0.44284272, \"end\": 0}}], \"inertia\": {\"x\": 1.0, \"y\": 1.0, \"z\": 1.0}, \"mass\": 1.0, \"frozen\": {\"position\": {\"x\": 0.0, \"y\": 0.0, \"z\": 0.0}, \"rotation\": {\"x\": 0.0, \"y\": 0.0, \"z\": 0.0}, \"all\": false}}, {\"name\": \"$ Body 10_ant1\", \"colliders\": [{\"rotation\": {\"x\": -90.0, \"y\": 45.0, \"z\": 0.0}, \"capsule\": {\"radius\": 0.08, \"length\": 0.7256854, \"end\": -1}}], \"inertia\": {\"x\": 1.0, \"y\": 1.0, \"z\": 1.0}, \"mass\": 1.0, \"frozen\": {\"position\": {\"x\": 0.0, \"y\": 0.0, \"z\": 0.0}, \"rotation\": {\"x\": 0.0, \"y\": 0.0, \"z\": 0.0}, \"all\": false}}, {\"name\": \"Aux 4_ant1\", \"colliders\": [{\"rotation\": {\"x\": -90.0, \"y\": -45.0, \"z\": 0.0}, \"capsule\": {\"radius\": 0.08, \"length\": 0.44284272, \"end\": 0}}], \"inertia\": {\"x\": 1.0, \"y\": 1.0, \"z\": 1.0}, \"mass\": 1.0, \"frozen\": {\"position\": {\"x\": 0.0, \"y\": 0.0, \"z\": 0.0}, \"rotation\": {\"x\": 0.0, \"y\": 0.0, \"z\": 0.0}, \"all\": false}}, {\"name\": \"$ Body 13_ant1\", \"colliders\": [{\"rotation\": {\"x\": -90.0, \"y\": -45.0, \"z\": 0.0}, \"capsule\": {\"radius\": 0.08, \"length\": 0.7256854, \"end\": -1}}], \"inertia\": {\"x\": 1.0, \"y\": 1.0, \"z\": 1.0}, \"mass\": 1.0, \"frozen\": {\"position\": {\"x\": 0.0, \"y\": 0.0, \"z\": 0.0}, \"rotation\": {\"x\": 0.0, \"y\": 0.0, \"z\": 0.0}, \"all\": false}}, {\"name\": \"torso_cheetah2\", \"colliders\": [{\"rotation\": {\"y\": 90.0, \"x\": 0.0, \"z\": 0.0}, \"capsule\": {\"radius\": 0.046, \"length\": 1.092, \"end\": 0}}, {\"position\": {\"x\": 0.6, \"z\": 0.1, \"y\": 0.0}, \"rotation\": {\"y\": 49.84733, \"x\": 0.0, \"z\": 0.0}, \"capsule\": {\"radius\": 0.046, \"length\": 0.392, \"end\": 0}}], \"inertia\": {\"x\": 0.944797, \"y\": 0.944797, \"z\": 0.944797}, \"mass\": 9.457333, \"frozen\": {\"position\": {\"x\": 0.0, \"y\": 0.0, \"z\": 0.0}, \"rotation\": {\"x\": 0.0, \"y\": 0.0, \"z\": 0.0}, \"all\": false}}, {\"name\": \"bthigh_cheetah2\", \"colliders\": [{\"position\": {\"x\": 0.1, \"z\": -0.13, \"y\": 0.0}, \"rotation\": {\"x\": -180.0, \"y\": 37.72396, \"z\": -180.0}, \"capsule\": {\"radius\": 0.046, \"length\": 0.382, \"end\": 0}}], \"inertia\": {\"x\": 0.02963628, \"y\": 0.02963628, \"z\": 0.02963628}, \"mass\": 2.335527, \"frozen\": {\"position\": {\"x\": 0.0, \"y\": 0.0, \"z\": 0.0}, \"rotation\": {\"x\": 0.0, \"y\": 0.0, \"z\": 0.0}, \"all\": false}}, {\"name\": \"bshin_cheetah2\", \"colliders\": [{\"position\": {\"x\": -0.14, \"z\": -0.07, \"y\": 0.0}, \"rotation\": {\"x\": 180.0, \"y\": -63.689568, \"z\": 180.0}, \"capsule\": {\"radius\": 0.046, \"length\": 0.392, \"end\": 0}}], \"inertia\": {\"x\": 0.032029107, \"y\": 0.032029107, \"z\": 0.032029107}, \"mass\": 2.402003, \"frozen\": {\"position\": {\"x\": 0.0, \"y\": 0.0, \"z\": 0.0}, \"rotation\": {\"x\": 0.0, \"y\": 0.0, \"z\": 0.0}, \"all\": false}}, {\"name\": \"bfoot_cheetah2\", \"colliders\": [{\"position\": {\"x\": 0.03, \"z\": -0.097, \"y\": 0.0}, \"rotation\": {\"y\": -15.46986, \"x\": 0.0, \"z\": 0.0}, \"capsule\": {\"radius\": 0.046, \"length\": 0.28, \"end\": 0}}], \"inertia\": {\"x\": 0.011705612, \"y\": 0.011705612, \"z\": 0.011705612}, \"mass\": 1.6574708, \"frozen\": {\"position\": {\"x\": 0.0, \"y\": 0.0, \"z\": 0.0}, \"rotation\": {\"x\": 0.0, \"y\": 0.0, \"z\": 0.0}, \"all\": false}}, {\"name\": \"fthigh_cheetah2\", \"colliders\": [{\"position\": {\"x\": -0.07, \"z\": -0.12, \"y\": 0.0}, \"rotation\": {\"y\": 29.793806, \"x\": 0.0, \"z\": 0.0}, \"capsule\": {\"radius\": 0.046, \"length\": 0.358, \"end\": 0}}], \"inertia\": {\"x\": 0.024391336, \"y\": 0.024391336, \"z\": 0.024391336}, \"mass\": 2.1759844, \"frozen\": {\"position\": {\"x\": 0.0, \"y\": 0.0, \"z\": 0.0}, \"rotation\": {\"x\": 0.0, \"y\": 0.0, \"z\": 0.0}, \"all\": false}}, {\"name\": \"fshin_cheetah2\", \"colliders\": [{\"position\": {\"x\": 0.065, \"z\": -0.09, \"y\": 0.0}, \"rotation\": {\"y\": -34.37747, \"x\": 0.0, \"z\": 0.0}, \"capsule\": {\"radius\": 0.046, \"length\": 0.304, \"end\": 0}}], \"inertia\": {\"x\": 0.014954625, \"y\": 0.014954625, \"z\": 0.014954625}, \"mass\": 1.8170134, \"frozen\": {\"position\": {\"x\": 0.0, \"y\": 0.0, \"z\": 0.0}, \"rotation\": {\"x\": 0.0, \"y\": 0.0, \"z\": 0.0}, \"all\": false}}, {\"name\": \"ffoot_cheetah2\", \"colliders\": [{\"position\": {\"x\": 0.045, \"z\": -0.07, \"y\": 0.0}, \"rotation\": {\"y\": -34.37747, \"x\": 0.0, \"z\": 0.0}, \"capsule\": {\"radius\": 0.046, \"length\": 0.232, \"end\": 0}}], \"inertia\": {\"x\": 0.0067111105, \"y\": 0.0067111105, \"z\": 0.0067111105}, \"mass\": 1.3383855, \"frozen\": {\"position\": {\"x\": 0.0, \"y\": 0.0, \"z\": 0.0}, \"rotation\": {\"x\": 0.0, \"y\": 0.0, \"z\": 0.0}, \"all\": false}}, {\"name\": \"Ground\", \"colliders\": [{\"plane\": {}}], \"inertia\": {\"x\": 1.0, \"y\": 1.0, \"z\": 1.0}, \"mass\": 1.0, \"frozen\": {\"position\": {\"x\": 1.0, \"y\": 1.0, \"z\": 1.0}, \"rotation\": {\"x\": 1.0, \"y\": 1.0, \"z\": 1.0}, \"all\": true}}], \"joints\": [{\"name\": \"torso_Aux 1_ant1\", \"stiffness\": 5000.0, \"parent\": \"torso_ant1\", \"child\": \"Aux 1_ant1\", \"parentOffset\": {\"x\": 0.2, \"y\": 0.2, \"z\": 0.0}, \"childOffset\": {\"x\": -0.1, \"y\": -0.1, \"z\": 0.0}, \"rotation\": {\"y\": -90.0, \"x\": 0.0, \"z\": 0.0}, \"angularDamping\": 35.0, \"angleLimit\": [{\"min\": -30.0, \"max\": 30.0}]}, {\"name\": \"Aux 1_$ Body 4_ant1\", \"stiffness\": 5000.0, \"parent\": \"Aux 1_ant1\", \"child\": \"$ Body 4_ant1\", \"parentOffset\": {\"x\": 0.1, \"y\": 0.1, \"z\": 0.0}, \"childOffset\": {\"x\": -0.2, \"y\": -0.2, \"z\": 0.0}, \"rotation\": {\"z\": 135.0, \"x\": 0.0, \"y\": 0.0}, \"angularDamping\": 35.0, \"angleLimit\": [{\"min\": 30.0, \"max\": 70.0}]}, {\"name\": \"torso_Aux 2_ant1\", \"stiffness\": 5000.0, \"parent\": \"torso_ant1\", \"child\": \"Aux 2_ant1\", \"parentOffset\": {\"x\": -0.2, \"y\": 0.2, \"z\": 0.0}, \"childOffset\": {\"x\": 0.1, \"y\": -0.1, \"z\": 0.0}, \"rotation\": {\"y\": -90.0, \"x\": 0.0, \"z\": 0.0}, \"angularDamping\": 35.0, \"angleLimit\": [{\"min\": -30.0, \"max\": 30.0}]}, {\"name\": \"Aux 2_$ Body 7_ant1\", \"stiffness\": 5000.0, \"parent\": \"Aux 2_ant1\", \"child\": \"$ Body 7_ant1\", \"parentOffset\": {\"x\": -0.1, \"y\": 0.1, \"z\": 0.0}, \"childOffset\": {\"x\": 0.2, \"y\": -0.2, \"z\": 0.0}, \"rotation\": {\"z\": 45.0, \"x\": 0.0, \"y\": 0.0}, \"angularDamping\": 35.0, \"angleLimit\": [{\"min\": -70.0, \"max\": -30.0}]}, {\"name\": \"torso_Aux 3_ant1\", \"stiffness\": 5000.0, \"parent\": \"torso_ant1\", \"child\": \"Aux 3_ant1\", \"parentOffset\": {\"x\": -0.2, \"y\": -0.2, \"z\": 0.0}, \"childOffset\": {\"x\": 0.1, \"y\": 0.1, \"z\": 0.0}, \"rotation\": {\"y\": -90.0, \"x\": 0.0, \"z\": 0.0}, \"angularDamping\": 35.0, \"angleLimit\": [{\"min\": -30.0, \"max\": 30.0}]}, {\"name\": \"Aux 3_$ Body 10_ant1\", \"stiffness\": 5000.0, \"parent\": \"Aux 3_ant1\", \"child\": \"$ Body 10_ant1\", \"parentOffset\": {\"x\": -0.1, \"y\": -0.1, \"z\": 0.0}, \"childOffset\": {\"x\": 0.2, \"y\": 0.2, \"z\": 0.0}, \"rotation\": {\"z\": 135.0, \"x\": 0.0, \"y\": 0.0}, \"angularDamping\": 35.0, \"angleLimit\": [{\"min\": -70.0, \"max\": -30.0}]}, {\"name\": \"torso_Aux 4_ant1\", \"stiffness\": 5000.0, \"parent\": \"torso_ant1\", \"child\": \"Aux 4_ant1\", \"parentOffset\": {\"x\": 0.2, \"y\": -0.2, \"z\": 0.0}, \"childOffset\": {\"x\": -0.1, \"y\": 0.1, \"z\": 0.0}, \"rotation\": {\"y\": -90.0, \"x\": 0.0, \"z\": 0.0}, \"angularDamping\": 35.0, \"angleLimit\": [{\"min\": -30.0, \"max\": 30.0}]}, {\"name\": \"Aux 4_$ Body 13_ant1\", \"stiffness\": 5000.0, \"parent\": \"Aux 4_ant1\", \"child\": \"$ Body 13_ant1\", \"parentOffset\": {\"x\": 0.1, \"y\": -0.1, \"z\": 0.0}, \"childOffset\": {\"x\": -0.2, \"y\": 0.2, \"z\": 0.0}, \"rotation\": {\"z\": 45.0, \"x\": 0.0, \"y\": 0.0}, \"angularDamping\": 35.0, \"angleLimit\": [{\"min\": 30.0, \"max\": 70.0}]}, {\"name\": \"bthigh_cheetah2\", \"stiffness\": 8000.0, \"parent\": \"torso_cheetah2\", \"child\": \"bthigh_cheetah2\", \"parentOffset\": {\"x\": -0.5, \"y\": 0.0, \"z\": 0.0}, \"childOffset\": {\"x\": 0.0, \"y\": 0.0, \"z\": 0.0}, \"rotation\": {\"z\": 90.0, \"x\": 0.0, \"y\": 0.0}, \"angleLimit\": [{\"min\": -29.793806, \"max\": 60.16057}], \"limitStrength\": 2000.0, \"springDamping\": 100.0, \"angularDamping\": 0.0}, {\"name\": \"bshin_cheetah2\", \"stiffness\": 5000.0, \"parent\": \"bthigh_cheetah2\", \"child\": \"bshin_cheetah2\", \"parentOffset\": {\"x\": 0.16, \"z\": -0.25, \"y\": 0.0}, \"childOffset\": {\"x\": 0.0, \"y\": 0.0, \"z\": 0.0}, \"rotation\": {\"z\": 90.0, \"x\": 0.0, \"y\": 0.0}, \"angleLimit\": [{\"min\": -44.97719, \"max\": 44.97719}], \"limitStrength\": 1200.0, \"springDamping\": 100.0, \"angularDamping\": 0.0}, {\"name\": \"bfoot_cheetah2\", \"stiffness\": 5000.0, \"parent\": \"bshin_cheetah2\", \"child\": \"bfoot_cheetah2\", \"parentOffset\": {\"x\": -0.28, \"z\": -0.14, \"y\": 0.0}, \"childOffset\": {\"x\": 0.0, \"y\": 0.0, \"z\": 0.0}, \"rotation\": {\"z\": 90.0, \"x\": 0.0, \"y\": 0.0}, \"angleLimit\": [{\"min\": -22.918312, \"max\": 44.97719}], \"limitStrength\": 400.0, \"springDamping\": 100.0, \"angularDamping\": 0.0}, {\"name\": \"fthigh_cheetah2\", \"stiffness\": 8000.0, \"parent\": \"torso_cheetah2\", \"child\": \"fthigh_cheetah2\", \"parentOffset\": {\"x\": 0.5, \"y\": 0.0, \"z\": 0.0}, \"childOffset\": {\"x\": 0.0, \"y\": 0.0, \"z\": 0.0}, \"rotation\": {\"z\": 90.0, \"x\": 0.0, \"y\": 0.0}, \"angleLimit\": [{\"min\": -57.29578, \"max\": 40.107044}], \"limitStrength\": 2000.0, \"springDamping\": 100.0, \"angularDamping\": 0.0}, {\"name\": \"fshin_cheetah2\", \"stiffness\": 5000.0, \"parent\": \"fthigh_cheetah2\", \"child\": \"fshin_cheetah2\", \"parentOffset\": {\"x\": -0.14, \"z\": -0.24, \"y\": 0.0}, \"childOffset\": {\"x\": 0.0, \"y\": 0.0, \"z\": 0.0}, \"rotation\": {\"z\": 90.0, \"x\": 0.0, \"y\": 0.0}, \"angleLimit\": [{\"min\": -68.75494, \"max\": 49.84733}], \"limitStrength\": 400.0, \"springDamping\": 80.0, \"angularDamping\": 0.0}, {\"name\": \"ffoot_cheetah2\", \"stiffness\": 3500.0, \"parent\": \"fshin_cheetah2\", \"child\": \"ffoot_cheetah2\", \"parentOffset\": {\"x\": 0.13, \"z\": -0.18, \"y\": 0.0}, \"childOffset\": {\"x\": 0.0, \"y\": 0.0, \"z\": 0.0}, \"rotation\": {\"z\": 90.0, \"x\": 0.0, \"y\": 0.0}, \"angleLimit\": [{\"min\": -28.64789, \"max\": 28.64789}], \"limitStrength\": 200.0, \"springDamping\": 50.0, \"angularDamping\": 0.0}], \"actuators\": [{\"name\": \"torso_Aux 1_ant1\", \"joint\": \"torso_Aux 1_ant1\", \"strength\": 300.0, \"torque\": {}}, {\"name\": \"Aux 1_$ Body 4_ant1\", \"joint\": \"Aux 1_$ Body 4_ant1\", \"strength\": 300.0, \"torque\": {}}, {\"name\": \"torso_Aux 2_ant1\", \"joint\": \"torso_Aux 2_ant1\", \"strength\": 300.0, \"torque\": {}}, {\"name\": \"Aux 2_$ Body 7_ant1\", \"joint\": \"Aux 2_$ Body 7_ant1\", \"strength\": 300.0, \"torque\": {}}, {\"name\": \"torso_Aux 3_ant1\", \"joint\": \"torso_Aux 3_ant1\", \"strength\": 300.0, \"torque\": {}}, {\"name\": \"Aux 3_$ Body 10_ant1\", \"joint\": \"Aux 3_$ Body 10_ant1\", \"strength\": 300.0, \"torque\": {}}, {\"name\": \"torso_Aux 4_ant1\", \"joint\": \"torso_Aux 4_ant1\", \"strength\": 300.0, \"torque\": {}}, {\"name\": \"Aux 4_$ Body 13_ant1\", \"joint\": \"Aux 4_$ Body 13_ant1\", \"strength\": 300.0, \"torque\": {}}, {\"name\": \"bthigh_cheetah2\", \"joint\": \"bthigh_cheetah2\", \"strength\": 120.0, \"torque\": {}}, {\"name\": \"bshin_cheetah2\", \"joint\": \"bshin_cheetah2\", \"strength\": 90.0, \"torque\": {}}, {\"name\": \"bfoot_cheetah2\", \"joint\": \"bfoot_cheetah2\", \"strength\": 60.0, \"torque\": {}}, {\"name\": \"fthigh_cheetah2\", \"joint\": \"fthigh_cheetah2\", \"strength\": 120.0, \"torque\": {}}, {\"name\": \"fshin_cheetah2\", \"joint\": \"fshin_cheetah2\", \"strength\": 60.0, \"torque\": {}}, {\"name\": \"ffoot_cheetah2\", \"joint\": \"ffoot_cheetah2\", \"strength\": 30.0, \"torque\": {}}], \"friction\": 0.6, \"gravity\": {\"z\": -9.8, \"x\": 0.0, \"y\": 0.0}, \"angularDamping\": -0.05, \"baumgarteErp\": 0.1, \"collideInclude\": [{\"first\": \"torso_ant1\", \"second\": \"Ground\"}, {\"first\": \"$ Body 4_ant1\", \"second\": \"Ground\"}, {\"first\": \"$ Body 7_ant1\", \"second\": \"Ground\"}, {\"first\": \"$ Body 10_ant1\", \"second\": \"Ground\"}, {\"first\": \"$ Body 13_ant1\", \"second\": \"Ground\"}, {\"first\": \"torso_cheetah2\", \"second\": \"Ground\"}, {\"first\": \"bfoot_cheetah2\", \"second\": \"Ground\"}, {\"first\": \"ffoot_cheetah2\", \"second\": \"Ground\"}], \"dt\": 0.05, \"substeps\": 10, \"frozen\": {\"all\": false}, \"elasticity\": 0.0, \"velocityDamping\": 0.0, \"defaults\": []}, \"pos\": [[[0.0, 1.0, 0.5133401155471802], [0.30000001192092896, 1.2999999523162842, 0.5133401155471802], [0.528557538986206, 1.528557538986206, 0.29667001962661743], [-0.30000001192092896, 1.2999999523162842, 0.5133401155471802], [-0.528557538986206, 1.528557538986206, 0.29667001962661743], [-0.30000001192092896, 0.699999988079071, 0.5133401155471802], [-0.528557538986206, 0.47144246101379395, 0.29667001962661743], [0.30000001192092896, 0.699999988079071, 0.5133401155471802], [0.528557538986206, 0.47144246101379395, 0.29667001962661743], [0.0, -1.0, 0.5835852026939392], [-0.5, -1.0, 0.5835852026939392], [-0.4110625088214874, -1.0, 0.3004065752029419], [-0.7179557085037231, -1.0, 0.23862820863723755], [0.5, -1.0, 0.5835852026939392], [0.397437185049057, -1.0, 0.3253588080406189], [0.5768076181411743, -1.0, 0.19449159502983093], [-0.0, -0.0, -0.0]]], \"rot\": [[[1.0, 0.0, 0.0, 0.0], [1.0, 0.0, 0.0, 0.0], [0.9063077569007874, -0.2988363206386566, 0.2988361716270447, 0.0], [1.0, 0.0, 0.0, 0.0], [0.9063077569007874, -0.29883620142936707, -0.29883626103401184, 0.0], [1.0, 0.0, 0.0, 0.0], [0.9063077569007874, 0.2988363206386566, -0.2988361716270447, 0.0], [1.0, 0.0, 0.0, 0.0], [0.9063077569007874, 0.29883620142936707, 0.29883626103401184, 0.0], [1.0, 0.0, 0.0, 0.0], [0.9912347197532654, -1.968631657689457e-08, 0.13211262226104736, 0.0], [0.9912347197532654, -1.968631657689457e-08, 0.13211262226104736, 0.0], [0.9739506244659424, -3.378990953706307e-08, 0.22676023840904236, 0.0], [0.9971888065338135, 1.1165397495460638e-08, -0.07492970675230026, 0.0], [0.9876224398612976, 2.3372418667122474e-08, -0.15684962272644043, 0.0], [0.9876224398612976, 2.3372418667122474e-08, -0.15684962272644043, 0.0], [1.0, 0.0, 0.0, 0.0]]]};\n",
       "    </script>\n",
       "\n",
       "    <div id=\"brax-viewer\"></div>\n",
       "\n",
       "    <script type=\"module\">\n",
       "      import {Viewer} from 'https://cdn.jsdelivr.net/gh/google/brax@6039109a102ca2ed4baaaf5bc595bdf3aaecc89f/js/viewer.js';\n",
       "      const domElement = document.getElementById('brax-viewer');\n",
       "      var viewer = new Viewer(domElement, system);\n",
       "    </script>\n",
       "  </body>\n",
       "</html>\n"
      ],
      "text/plain": [
       "<IPython.core.display.HTML object>"
      ]
     },
     "execution_count": 5,
     "metadata": {},
     "output_type": "execute_result"
    }
   ],
   "source": [
    "jit_env_reset = jax.jit(env.reset)\n",
    "state = jit_env_reset(rng=jax.random.PRNGKey(seed=0))\n",
    "\n",
    "def visualize(sys, qps):\n",
    "  \"\"\"Renders a 3D visualization of the environment.\"\"\"\n",
    "  return HTML(html.render(sys, qps))\n",
    "\n",
    "visualize(env.sys, [state.qp])"
   ]
  },
  {
   "cell_type": "code",
   "execution_count": null,
   "id": "fcc9b038",
   "metadata": {},
   "outputs": [
    {
     "data": {
      "image/png": "[encoded data removed]",
      "text/plain": [
       "<Figure size 432x288 with 1 Axes>"
      ]
     },
     "metadata": {
      "needs_background": "light"
     },
     "output_type": "display_data"
    }
   ],
   "source": [
    "\n",
    "\n",
    "#@title Training some pre-included Brax environments\n",
    "\n",
    "# We determined some reasonable hyperparameters offline and share them here.\n",
    "train_fn = {\n",
    "  'ant_cheetah': functools.partial(\n",
    "      ppo.train, num_timesteps = 50000000, log_frequency = 20,\n",
    "      reward_scaling = 10, episode_length = 1000, normalize_observations = True,\n",
    "      action_repeat = 1, unroll_length = 5, num_minibatches = 32,\n",
    "      num_update_epochs = 4, discounting = 0.95, learning_rate = 3e-4,\n",
    "      entropy_cost = 1e-2, num_envs = 2048, batch_size = 1024\n",
    "  ),\n",
    "  'humanoid': functools.partial(\n",
    "      sac.train, num_timesteps = 1048576 * 5,\n",
    "      log_frequency = 131012, reward_scaling = 30, episode_length = 1000,\n",
    "      normalize_observations = True, action_repeat = 1, discounting = 0.99,\n",
    "      learning_rate = 6e-4, num_envs = 64, batch_size = 512,\n",
    "      min_replay_size = 8192, max_replay_size = 1048576,\n",
    "      grad_updates_per_step = 0.125, max_devices_per_host=4\n",
    "  ),\n",
    "  'fetch': functools.partial(\n",
    "      ppo.train, num_timesteps = 100_000_000, log_frequency = 20,\n",
    "      reward_scaling = 5, episode_length = 1000, normalize_observations = True,\n",
    "      action_repeat = 1, unroll_length = 20, num_minibatches = 32,\n",
    "      num_update_epochs = 4, discounting = 0.997, learning_rate = 3e-4,\n",
    "      entropy_cost = 0.001, num_envs = 2048, batch_size = 256\n",
    "  ),\n",
    "  'grasp': functools.partial(\n",
    "      ppo.train, num_timesteps = 600_000_000, log_frequency = 10,\n",
    "      reward_scaling = 10, episode_length = 1000, normalize_observations = True,\n",
    "      action_repeat = 1, unroll_length = 20, num_minibatches = 32,\n",
    "      num_update_epochs = 2, discounting = 0.99, learning_rate = 3e-4,\n",
    "      entropy_cost = 0.001, num_envs = 2048, batch_size = 256\n",
    "  ),\n",
    "  'halfcheetah': functools.partial(\n",
    "      ppo.train, num_timesteps = 100_000_000, log_frequency = 10,\n",
    "      reward_scaling = 1, episode_length = 1000, normalize_observations = True,\n",
    "      action_repeat = 1, unroll_length = 20, num_minibatches = 32,\n",
    "      num_update_epochs = 8, discounting = 0.95, learning_rate = 3e-4,\n",
    "      entropy_cost = 0.001, num_envs = 2048, batch_size = 512\n",
    "  ),\n",
    "  'ur5e': functools.partial(\n",
    "      ppo.train, num_timesteps = 20_000_000, log_frequency = 20,\n",
    "      reward_scaling = 10, episode_length = 1000, normalize_observations = True,\n",
    "      action_repeat = 1, unroll_length = 5, num_minibatches = 32,\n",
    "      num_update_epochs = 4, discounting = 0.95, learning_rate = 2e-4,\n",
    "      entropy_cost = 1e-2, num_envs = 2048, batch_size = 1024,\n",
    "      max_devices_per_host = 8\n",
    "  ),\n",
    "  'reacher': functools.partial(\n",
    "      ppo.train, num_timesteps = 100_000_000, log_frequency = 20,\n",
    "      reward_scaling = 5, episode_length = 1000, normalize_observations = True,\n",
    "      action_repeat = 4, unroll_length = 50, num_minibatches = 32,\n",
    "      num_update_epochs = 8, discounting = 0.95, learning_rate = 3e-4,\n",
    "      entropy_cost = 1e-3, num_envs = 2048, batch_size = 256,\n",
    "      max_devices_per_host = 8, seed = 1),\n",
    "  'testenv': functools.partial(\n",
    "      ppo.train, num_timesteps = 100_000_000, log_frequency = 20,\n",
    "      reward_scaling = 5, episode_length = 1000, normalize_observations = True,\n",
    "      action_repeat = 1, unroll_length = 20, num_minibatches = 32,\n",
    "      num_update_epochs = 4, discounting = 0.997, learning_rate = 3e-4,\n",
    "      entropy_cost = 0.001, num_envs = 2048, batch_size = 256\n",
    "  ),\n",
    "  'testenv2': functools.partial(\n",
    "      ppo.train, num_timesteps = 100_000_000, log_frequency = 20,\n",
    "      reward_scaling = 5, episode_length = 1000, normalize_observations = True,\n",
    "      action_repeat = 1, unroll_length = 20, num_minibatches = 32,\n",
    "      num_update_epochs = 4, discounting = 0.997, learning_rate = 3e-4,\n",
    "      entropy_cost = 0.001, num_envs = 2048, batch_size = 256\n",
    "  ),\n",
    "}[env_name]\n",
    "max_y = {'ant_cheetah': 6000, \n",
    "         'humanoid': 12000, \n",
    "         'fetch': 15, \n",
    "         'grasp': 100, \n",
    "         'halfcheetah': 8000,\n",
    "         'ur5e': 10,\n",
    "         'reacher': 5,\n",
    "         'testenv': 15000,\n",
    "         'testenv2': 15000}[env_name]\n",
    "\n",
    "min_y = {'reacher': -100}.get(env_name, 0)\n",
    "min_y = {'testenv': -10000}.get(env_name, 0)\n",
    "min_y = {'testenv2': -10000}.get(env_name, 0)\n",
    "\n",
    "xdata = []\n",
    "ydata = []\n",
    "times = [datetime.now()]\n",
    "\n",
    "def progress(num_steps, metrics):\n",
    "  times.append(datetime.now())\n",
    "  xdata.append(num_steps)\n",
    "  ydata.append(metrics['eval/episode_reward'])\n",
    "  clear_output(wait=True)\n",
    "  plt.xlim([0, train_fn.keywords['num_timesteps']])\n",
    "  plt.ylim([min_y, max_y])\n",
    "  plt.xlabel('# environment steps')\n",
    "  plt.ylabel('reward per episode')\n",
    "  plt.plot(xdata, ydata)\n",
    "  plt.show()\n",
    "\n",
    "inference_fn, params, _ = train_fn(environment_fn=env_fn, progress_fn=progress)\n",
    "\n",
    "print(f'time to jit: {times[1] - times[0]}')\n",
    "print(f'time to train: {times[-1] - times[1]}')"
   ]
  },
  {
   "cell_type": "code",
   "execution_count": null,
   "id": "8c218350",
   "metadata": {},
   "outputs": [],
   "source": [
    "#@title Visualizing a trajectory of the learned inference function\n",
    "\n",
    "jit_env_step = jax.jit(env.step)\n",
    "jit_inference_fn = jax.jit(inference_fn)\n",
    "rng = jax.random.PRNGKey(seed=0)\n",
    "reset_key, rng = jax.random.split(rng)\n",
    "state = jit_env_reset(rng=reset_key)\n",
    "qps = []\n",
    "while not state.done:\n",
    "  qps.append(state.qp)\n",
    "  tmp_key, rng = jax.random.split(rng)\n",
    "  act = jit_inference_fn(params, state.obs, tmp_key)\n",
    "  state = jit_env_step(state, act)\n",
    "\n",
    "visualize(env.sys, qps)"
   ]
  }
 ],
 "metadata": {
  "kernelspec": {
   "display_name": "Python 3 (ipykernel)",
   "language": "python",
   "name": "python3"
  },
  "language_info": {
   "codemirror_mode": {
    "name": "ipython",
    "version": 3
   },
   "file_extension": ".py",
   "mimetype": "text/x-python",
   "name": "python",
   "nbconvert_exporter": "python",
   "pygments_lexer": "ipython3",
   "version": "3.8.10"
  }
 },
 "nbformat": 4,
 "nbformat_minor": 5
}
